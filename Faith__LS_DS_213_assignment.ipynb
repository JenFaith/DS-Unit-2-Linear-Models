{
  "nbformat": 4,
  "nbformat_minor": 0,
  "metadata": {
    "kernelspec": {
      "display_name": "Python 3",
      "language": "python",
      "name": "python3"
    },
    "language_info": {
      "codemirror_mode": {
        "name": "ipython",
        "version": 3
      },
      "file_extension": ".py",
      "mimetype": "text/x-python",
      "name": "python",
      "nbconvert_exporter": "python",
      "pygments_lexer": "ipython3",
      "version": "3.7.3"
    },
    "colab": {
      "name": "Faith_ LS_DS_213_assignment.ipynb",
      "provenance": [],
      "include_colab_link": true
    }
  },
  "cells": [
    {
      "cell_type": "markdown",
      "metadata": {
        "id": "view-in-github",
        "colab_type": "text"
      },
      "source": [
        "<a href=\"https://colab.research.google.com/github/JenFaith/DS-Unit-2-Linear-Models/blob/master/Faith__LS_DS_213_assignment.ipynb\" target=\"_parent\"><img src=\"https://colab.research.google.com/assets/colab-badge.svg\" alt=\"Open In Colab\"/></a>"
      ]
    },
    {
      "cell_type": "markdown",
      "metadata": {
        "id": "ESJ_YQRSIJgj"
      },
      "source": [
        "Lambda School Data Science\n",
        "\n",
        "*Unit 2, Sprint 1, Module 3*\n",
        "\n",
        "---"
      ]
    },
    {
      "cell_type": "markdown",
      "metadata": {
        "id": "7IXUfiQ2UKj6"
      },
      "source": [
        "# Ridge Regression\n",
        "\n",
        "## Assignment\n",
        "\n",
        "We're going back to our other **New York City** real estate dataset. Instead of predicting apartment rents, you'll predict property sales prices.\n",
        "\n",
        "But not just for condos in Tribeca...\n",
        "\n",
        "- [ ] Use a subset of the data where `BUILDING_CLASS_CATEGORY` == `'01 ONE FAMILY DWELLINGS'` and the sale price was more than 100 thousand and less than 2 million.\n",
        "- [ ] Do train/test split. Use data from January — March 2019 to train. Use data from April 2019 to test.\n",
        "- [ ] Do one-hot encoding of categorical features.\n",
        "- [ ] Do feature selection with `SelectKBest`.\n",
        "- [ ] Fit a ridge regression model with multiple features. Use the `normalize=True` parameter (or do [feature scaling](https://scikit-learn.org/stable/modules/preprocessing.html) beforehand — use the scaler's `fit_transform` method with the train set, and the scaler's `transform` method with the test set)\n",
        "- [ ] Get mean absolute error for the test set.\n",
        "- [ ] As always, commit your notebook to your fork of the GitHub repo.\n",
        "\n",
        "The [NYC Department of Finance](https://www1.nyc.gov/site/finance/taxes/property-rolling-sales-data.page) has a glossary of property sales terms and NYC Building Class Code Descriptions. The data comes from the [NYC OpenData](https://data.cityofnewyork.us/browse?q=NYC%20calendar%20sales) portal.\n",
        "\n",
        "\n",
        "## Stretch Goals\n",
        "\n",
        "Don't worry, you aren't expected to do all these stretch goals! These are just ideas to consider and choose from.\n",
        "\n",
        "- [ ] Add your own stretch goal(s) !\n",
        "- [ ] Instead of `Ridge`, try `LinearRegression`. Depending on how many features you select, your errors will probably blow up! 💥\n",
        "- [ ] Instead of `Ridge`, try [`RidgeCV`](https://scikit-learn.org/stable/modules/generated/sklearn.linear_model.RidgeCV.html).\n",
        "- [ ] Learn more about feature selection:\n",
        "    - [\"Permutation importance\"](https://www.kaggle.com/dansbecker/permutation-importance)\n",
        "    - [scikit-learn's User Guide for Feature Selection](https://scikit-learn.org/stable/modules/feature_selection.html)\n",
        "    - [mlxtend](http://rasbt.github.io/mlxtend/) library\n",
        "    - scikit-learn-contrib libraries: [boruta_py](https://github.com/scikit-learn-contrib/boruta_py) & [stability-selection](https://github.com/scikit-learn-contrib/stability-selection)\n",
        "    - [_Feature Engineering and Selection_](http://www.feat.engineering/) by Kuhn & Johnson.\n",
        "- [ ] Try [statsmodels](https://www.statsmodels.org/stable/index.html) if you’re interested in more inferential statistical approach to linear regression and feature selection, looking at p values and 95% confidence intervals for the coefficients.\n",
        "- [ ] Read [_An Introduction to Statistical Learning_](http://faculty.marshall.usc.edu/gareth-james/ISL/ISLR%20Seventh%20Printing.pdf), Chapters 1-3, for more math & theory, but in an accessible, readable way.\n",
        "- [ ] Try [scikit-learn pipelines](https://scikit-learn.org/stable/modules/compose.html)."
      ]
    },
    {
      "cell_type": "code",
      "metadata": {
        "id": "o9eSnDYhUGD7"
      },
      "source": [
        "%%capture\n",
        "import sys\n",
        "\n",
        "# If you're on Colab:\n",
        "if 'google.colab' in sys.modules:\n",
        "    DATA_PATH = 'https://raw.githubusercontent.com/LambdaSchool/DS-Unit-2-Applied-Modeling/master/data/'\n",
        "    !pip install category_encoders==2.*\n",
        "\n",
        "# If you're working locally:\n",
        "else:\n",
        "    DATA_PATH = '../data/'\n",
        "    \n",
        "# Ignore this Numpy warning when using Plotly Express:\n",
        "# FutureWarning: Method .ptp is deprecated and will be removed in a future version. Use numpy.ptp instead.\n",
        "import warnings\n",
        "warnings.filterwarnings(action='ignore', category=FutureWarning, module='numpy')"
      ],
      "execution_count": 236,
      "outputs": []
    },
    {
      "cell_type": "markdown",
      "metadata": {
        "id": "VRM0ML_tNHjp"
      },
      "source": [
        "#I. Wrangle Data"
      ]
    },
    {
      "cell_type": "code",
      "metadata": {
        "id": "QJBD4ruICm1m"
      },
      "source": [
        "import pandas as pd\n",
        "import pandas_profiling\n",
        "\n",
        "# Read New York City property sales data\n",
        "df = pd.read_csv(DATA_PATH+'condos/NYC_Citywide_Rolling_Calendar_Sales.csv',\n",
        "                 parse_dates=['SALE DATE'],\n",
        "                 index_col = 'SALE DATE')\n",
        "\n",
        "\n",
        "# # Change column names: replace spaces with underscores\n",
        "df.columns = [col.replace(' ', '_') for col in df]\n"
      ],
      "execution_count": 237,
      "outputs": []
    },
    {
      "cell_type": "code",
      "metadata": {
        "colab": {
          "base_uri": "https://localhost:8080/"
        },
        "id": "SA83iUpGzSdC",
        "outputId": "7c75fc9c-35b9-430f-f59e-fe5a3f9fc06b"
      },
      "source": [
        "df.dtypes"
      ],
      "execution_count": 238,
      "outputs": [
        {
          "output_type": "execute_result",
          "data": {
            "text/plain": [
              "BOROUGH                             int64\n",
              "NEIGHBORHOOD                       object\n",
              "BUILDING_CLASS_CATEGORY            object\n",
              "TAX_CLASS_AT_PRESENT               object\n",
              "BLOCK                               int64\n",
              "LOT                                 int64\n",
              "EASE-MENT                         float64\n",
              "BUILDING_CLASS_AT_PRESENT          object\n",
              "ADDRESS                            object\n",
              "APARTMENT_NUMBER                   object\n",
              "ZIP_CODE                          float64\n",
              "RESIDENTIAL_UNITS                 float64\n",
              "COMMERCIAL_UNITS                  float64\n",
              "TOTAL_UNITS                       float64\n",
              "LAND_SQUARE_FEET                   object\n",
              "GROSS_SQUARE_FEET                 float64\n",
              "YEAR_BUILT                        float64\n",
              "TAX_CLASS_AT_TIME_OF_SALE           int64\n",
              "BUILDING_CLASS_AT_TIME_OF_SALE     object\n",
              "SALE_PRICE                         object\n",
              "dtype: object"
            ]
          },
          "metadata": {
            "tags": []
          },
          "execution_count": 238
        }
      ]
    },
    {
      "cell_type": "code",
      "metadata": {
        "id": "nDOsGMoDyVbw"
      },
      "source": [
        "# # SALE_PRICE was read as strings.\n",
        "# # Remove symbols, convert to integer\n",
        "df['SALE_PRICE'] = (\n",
        "    df['SALE_PRICE']\n",
        "    .astype(str)\n",
        "    .str.replace('$','')\n",
        "    .str.replace('-','')\n",
        "    .str.replace(',','')\n",
        "    .astype(int)\n",
        ")\n",
        "\n",
        "df['LAND_SQUARE_FEET'] = (\n",
        "    df['LAND_SQUARE_FEET']\n",
        "    .astype(str)\n",
        "    .str.replace(',','')\n",
        "    .fillna(0)\n",
        "    .astype(int)\n",
        ")\n",
        "#df['LAND_SQUARE_FEET'] = (df['LAND_SQUARE_FEET'].str.replace(',','').astype(str).astype(int))\n",
        "\n",
        "##Reformatting Zip Code and Year Built to Integers\n",
        "df[[\"ZIP_CODE\", \"YEAR_BUILT\"]] = df[['ZIP_CODE', 'YEAR_BUILT']].fillna(0).astype('int')\n",
        "\n",
        "# BOROUGH is a numeric column, but arguably should be a categorical feature\n",
        "# so convert it from a number to a string\n",
        "df['BOROUGH'] = df['BOROUGH'].astype(str)\n",
        "\n",
        "#Square feet is a measure so Land_Square_Feet should be an integer\n",
        "# df['LAND_SQUARE_FEET']=df['LAND_SQUARE_FEET'].astype(int)"
      ],
      "execution_count": 243,
      "outputs": []
    },
    {
      "cell_type": "code",
      "metadata": {
        "id": "X9OOopwaIJgk"
      },
      "source": [
        "# Reduce cardinality for NEIGHBORHOOD feature\n",
        "\n",
        "# Get a list of the top 10 neighborhoods\n",
        "top10 = df['NEIGHBORHOOD'].value_counts()[:10].index\n",
        "\n",
        "# At locations where the neighborhood is NOT in the top 10, \n",
        "# replace the neighborhood with 'OTHER'\n",
        "df.loc[~df['NEIGHBORHOOD'].isin(top10), 'NEIGHBORHOOD'] = 'OTHER'"
      ],
      "execution_count": 244,
      "outputs": []
    },
    {
      "cell_type": "code",
      "metadata": {
        "id": "mqc7UXMIIX29"
      },
      "source": [
        "# Only use data with one family dwellints as well as sale price more than 100 thousand and less than 2 million.\n",
        "\n",
        "df = df.query('SALE_PRICE > 100000 and SALE_PRICE < 2000000')\n",
        "df = (df[df['BUILDING_CLASS_CATEGORY']=='01 ONE FAMILY DWELLINGS']) \n"
      ],
      "execution_count": 245,
      "outputs": []
    },
    {
      "cell_type": "code",
      "metadata": {
        "colab": {
          "base_uri": "https://localhost:8080/"
        },
        "id": "IdXGg6DGu6Oh",
        "outputId": "7f8e4085-dba5-47c4-ae17-0c91e865357b"
      },
      "source": [
        "df.dtypes"
      ],
      "execution_count": 246,
      "outputs": [
        {
          "output_type": "execute_result",
          "data": {
            "text/plain": [
              "BOROUGH                            object\n",
              "NEIGHBORHOOD                       object\n",
              "BUILDING_CLASS_CATEGORY            object\n",
              "TAX_CLASS_AT_PRESENT               object\n",
              "BLOCK                               int64\n",
              "LOT                                 int64\n",
              "EASE-MENT                         float64\n",
              "BUILDING_CLASS_AT_PRESENT          object\n",
              "ADDRESS                            object\n",
              "APARTMENT_NUMBER                   object\n",
              "ZIP_CODE                            int64\n",
              "RESIDENTIAL_UNITS                 float64\n",
              "COMMERCIAL_UNITS                  float64\n",
              "TOTAL_UNITS                       float64\n",
              "LAND_SQUARE_FEET                    int64\n",
              "GROSS_SQUARE_FEET                 float64\n",
              "YEAR_BUILT                          int64\n",
              "TAX_CLASS_AT_TIME_OF_SALE           int64\n",
              "BUILDING_CLASS_AT_TIME_OF_SALE     object\n",
              "SALE_PRICE                          int64\n",
              "dtype: object"
            ]
          },
          "metadata": {
            "tags": []
          },
          "execution_count": 246
        }
      ]
    },
    {
      "cell_type": "code",
      "metadata": {
        "colab": {
          "base_uri": "https://localhost:8080/"
        },
        "id": "QrBXZ2tsvU2c",
        "outputId": "1acb37dd-6167-4a77-9c2d-a9bd027c7c33"
      },
      "source": [
        "df.select_dtypes('object').nunique()"
      ],
      "execution_count": 247,
      "outputs": [
        {
          "output_type": "execute_result",
          "data": {
            "text/plain": [
              "BOROUGH                              5\n",
              "NEIGHBORHOOD                         6\n",
              "BUILDING_CLASS_CATEGORY              1\n",
              "TAX_CLASS_AT_PRESENT                 2\n",
              "BUILDING_CLASS_AT_PRESENT           13\n",
              "ADDRESS                           3135\n",
              "APARTMENT_NUMBER                     1\n",
              "BUILDING_CLASS_AT_TIME_OF_SALE      11\n",
              "dtype: int64"
            ]
          },
          "metadata": {
            "tags": []
          },
          "execution_count": 247
        }
      ]
    },
    {
      "cell_type": "code",
      "metadata": {
        "id": "owuunJ04WkzA"
      },
      "source": [
        "#Because some columns had a lot of unique categories, I chose to remove them from the dataset\n",
        "#I also removed apartment number and 'Ease-ment' since it didn't have any values\n",
        "\n",
        "df.drop(columns = ['ADDRESS',\t'APARTMENT_NUMBER','EASE-MENT'], inplace=True)"
      ],
      "execution_count": 248,
      "outputs": []
    },
    {
      "cell_type": "code",
      "metadata": {
        "colab": {
          "base_uri": "https://localhost:8080/",
          "height": 357
        },
        "id": "82nw5ir4Wm6g",
        "outputId": "e9d8eada-58d8-45e4-9db4-ceefc1e99641"
      },
      "source": [
        "df.head()"
      ],
      "execution_count": 249,
      "outputs": [
        {
          "output_type": "execute_result",
          "data": {
            "text/html": [
              "<div>\n",
              "<style scoped>\n",
              "    .dataframe tbody tr th:only-of-type {\n",
              "        vertical-align: middle;\n",
              "    }\n",
              "\n",
              "    .dataframe tbody tr th {\n",
              "        vertical-align: top;\n",
              "    }\n",
              "\n",
              "    .dataframe thead th {\n",
              "        text-align: right;\n",
              "    }\n",
              "</style>\n",
              "<table border=\"1\" class=\"dataframe\">\n",
              "  <thead>\n",
              "    <tr style=\"text-align: right;\">\n",
              "      <th></th>\n",
              "      <th>BOROUGH</th>\n",
              "      <th>NEIGHBORHOOD</th>\n",
              "      <th>BUILDING_CLASS_CATEGORY</th>\n",
              "      <th>TAX_CLASS_AT_PRESENT</th>\n",
              "      <th>BLOCK</th>\n",
              "      <th>LOT</th>\n",
              "      <th>BUILDING_CLASS_AT_PRESENT</th>\n",
              "      <th>ZIP_CODE</th>\n",
              "      <th>RESIDENTIAL_UNITS</th>\n",
              "      <th>COMMERCIAL_UNITS</th>\n",
              "      <th>TOTAL_UNITS</th>\n",
              "      <th>LAND_SQUARE_FEET</th>\n",
              "      <th>GROSS_SQUARE_FEET</th>\n",
              "      <th>YEAR_BUILT</th>\n",
              "      <th>TAX_CLASS_AT_TIME_OF_SALE</th>\n",
              "      <th>BUILDING_CLASS_AT_TIME_OF_SALE</th>\n",
              "      <th>SALE_PRICE</th>\n",
              "    </tr>\n",
              "    <tr>\n",
              "      <th>SALE DATE</th>\n",
              "      <th></th>\n",
              "      <th></th>\n",
              "      <th></th>\n",
              "      <th></th>\n",
              "      <th></th>\n",
              "      <th></th>\n",
              "      <th></th>\n",
              "      <th></th>\n",
              "      <th></th>\n",
              "      <th></th>\n",
              "      <th></th>\n",
              "      <th></th>\n",
              "      <th></th>\n",
              "      <th></th>\n",
              "      <th></th>\n",
              "      <th></th>\n",
              "      <th></th>\n",
              "    </tr>\n",
              "  </thead>\n",
              "  <tbody>\n",
              "    <tr>\n",
              "      <th>2019-01-01</th>\n",
              "      <td>3</td>\n",
              "      <td>OTHER</td>\n",
              "      <td>01 ONE FAMILY DWELLINGS</td>\n",
              "      <td>1</td>\n",
              "      <td>5495</td>\n",
              "      <td>801</td>\n",
              "      <td>A9</td>\n",
              "      <td>11230</td>\n",
              "      <td>1.0</td>\n",
              "      <td>0.0</td>\n",
              "      <td>1.0</td>\n",
              "      <td>6800</td>\n",
              "      <td>1325.0</td>\n",
              "      <td>1930</td>\n",
              "      <td>1</td>\n",
              "      <td>A9</td>\n",
              "      <td>550000</td>\n",
              "    </tr>\n",
              "    <tr>\n",
              "      <th>2019-01-01</th>\n",
              "      <td>4</td>\n",
              "      <td>OTHER</td>\n",
              "      <td>01 ONE FAMILY DWELLINGS</td>\n",
              "      <td>1</td>\n",
              "      <td>7918</td>\n",
              "      <td>72</td>\n",
              "      <td>A1</td>\n",
              "      <td>11427</td>\n",
              "      <td>1.0</td>\n",
              "      <td>0.0</td>\n",
              "      <td>1.0</td>\n",
              "      <td>4000</td>\n",
              "      <td>2001.0</td>\n",
              "      <td>1940</td>\n",
              "      <td>1</td>\n",
              "      <td>A1</td>\n",
              "      <td>200000</td>\n",
              "    </tr>\n",
              "    <tr>\n",
              "      <th>2019-01-02</th>\n",
              "      <td>2</td>\n",
              "      <td>OTHER</td>\n",
              "      <td>01 ONE FAMILY DWELLINGS</td>\n",
              "      <td>1</td>\n",
              "      <td>4210</td>\n",
              "      <td>19</td>\n",
              "      <td>A1</td>\n",
              "      <td>10461</td>\n",
              "      <td>1.0</td>\n",
              "      <td>0.0</td>\n",
              "      <td>1.0</td>\n",
              "      <td>3500</td>\n",
              "      <td>2043.0</td>\n",
              "      <td>1925</td>\n",
              "      <td>1</td>\n",
              "      <td>A1</td>\n",
              "      <td>810000</td>\n",
              "    </tr>\n",
              "    <tr>\n",
              "      <th>2019-01-02</th>\n",
              "      <td>3</td>\n",
              "      <td>OTHER</td>\n",
              "      <td>01 ONE FAMILY DWELLINGS</td>\n",
              "      <td>1</td>\n",
              "      <td>5212</td>\n",
              "      <td>69</td>\n",
              "      <td>A1</td>\n",
              "      <td>11226</td>\n",
              "      <td>1.0</td>\n",
              "      <td>0.0</td>\n",
              "      <td>1.0</td>\n",
              "      <td>4000</td>\n",
              "      <td>2680.0</td>\n",
              "      <td>1899</td>\n",
              "      <td>1</td>\n",
              "      <td>A1</td>\n",
              "      <td>125000</td>\n",
              "    </tr>\n",
              "    <tr>\n",
              "      <th>2019-01-02</th>\n",
              "      <td>3</td>\n",
              "      <td>OTHER</td>\n",
              "      <td>01 ONE FAMILY DWELLINGS</td>\n",
              "      <td>1</td>\n",
              "      <td>7930</td>\n",
              "      <td>121</td>\n",
              "      <td>A5</td>\n",
              "      <td>11203</td>\n",
              "      <td>1.0</td>\n",
              "      <td>0.0</td>\n",
              "      <td>1.0</td>\n",
              "      <td>1710</td>\n",
              "      <td>1872.0</td>\n",
              "      <td>1940</td>\n",
              "      <td>1</td>\n",
              "      <td>A5</td>\n",
              "      <td>620000</td>\n",
              "    </tr>\n",
              "  </tbody>\n",
              "</table>\n",
              "</div>"
            ],
            "text/plain": [
              "           BOROUGH NEIGHBORHOOD  ... BUILDING_CLASS_AT_TIME_OF_SALE SALE_PRICE\n",
              "SALE DATE                        ...                                          \n",
              "2019-01-01       3        OTHER  ...                             A9     550000\n",
              "2019-01-01       4        OTHER  ...                             A1     200000\n",
              "2019-01-02       2        OTHER  ...                             A1     810000\n",
              "2019-01-02       3        OTHER  ...                             A1     125000\n",
              "2019-01-02       3        OTHER  ...                             A5     620000\n",
              "\n",
              "[5 rows x 17 columns]"
            ]
          },
          "metadata": {
            "tags": []
          },
          "execution_count": 249
        }
      ]
    },
    {
      "cell_type": "markdown",
      "metadata": {
        "id": "mTPS1VYzPoXI"
      },
      "source": [
        "#II. Split Data"
      ]
    },
    {
      "cell_type": "code",
      "metadata": {
        "id": "gBRhtjKuPoBR"
      },
      "source": [
        "#Do train/test split. Use data from January — March 2019 to train. Use data from April 2019 to test.\n",
        "target = 'SALE_PRICE'\n",
        "y = df[target]\n",
        "X = df.drop(columns=target)\n",
        "\n",
        "mask = X.index <'2019-04-01'\n",
        "\n",
        "X_train = X[mask]\n",
        "y_train = y[mask]\n",
        "\n",
        "X_test = X[~mask]\n",
        "y_test = y[~mask]"
      ],
      "execution_count": 250,
      "outputs": []
    },
    {
      "cell_type": "markdown",
      "metadata": {
        "id": "JaOd2l-7SFZ3"
      },
      "source": [
        "#III. Establish Baseline"
      ]
    },
    {
      "cell_type": "code",
      "metadata": {
        "colab": {
          "base_uri": "https://localhost:8080/"
        },
        "id": "apOSl75PQoy2",
        "outputId": "e4d4e910-7851-4518-9217-5f43c3e0010c"
      },
      "source": [
        "from sklearn.metrics import mean_absolute_error, mean_squared_error\n",
        "\n",
        "y_pred = [y_train.mean()]*len(y_train)\n",
        "baseline_MAE = mean_absolute_error(y_train, y_pred)\n",
        "\n",
        "print(\"The baseline Mean Absolute Error is:\", baseline_MAE)"
      ],
      "execution_count": 251,
      "outputs": [
        {
          "output_type": "stream",
          "text": [
            "The baseline Mean Absolute Error is: 214721.52773001452\n"
          ],
          "name": "stdout"
        }
      ]
    },
    {
      "cell_type": "markdown",
      "metadata": {
        "id": "lUMSgqlxTDD3"
      },
      "source": [
        "#IV. Building Linear Regression Model"
      ]
    },
    {
      "cell_type": "code",
      "metadata": {
        "id": "XUw3FrdqSlAL"
      },
      "source": [
        "from sklearn.linear_model import LinearRegression, Ridge\n",
        "from category_encoders import OneHotEncoder\n",
        "from sklearn.feature_selection import SelectKBest"
      ],
      "execution_count": 252,
      "outputs": []
    },
    {
      "cell_type": "markdown",
      "metadata": {
        "id": "QMFE-TF8U8DW"
      },
      "source": [
        "One-Hot Encoding of Categorical Features"
      ]
    },
    {
      "cell_type": "code",
      "metadata": {
        "colab": {
          "base_uri": "https://localhost:8080/"
        },
        "id": "LoBG5IuQU4nz",
        "outputId": "d9db8bcd-aaa4-4fb6-9efe-3e230a3dcbe8"
      },
      "source": [
        "transformer_ohe = OneHotEncoder(use_cat_names=True)\n",
        "transformer_skb = SelectKBest(k=38)\n",
        "\n",
        "# Fit OneHotEncoder to X_train Data\n",
        "transformer_ohe.fit(X_train)\n",
        "\n",
        "#First transformation\n",
        "XT_train = transformer_ohe.transform(X_train)\n",
        "XT_test = transformer_ohe.transform(X_test)\n",
        "\n",
        "\n",
        "#Fit Select K Best to X and y data\n",
        "transformer_skb.fit(XT_train, y_train)\n",
        "\n",
        "#Transforming data again with SKB\n",
        "XTT_train = transformer_skb.transform(XT_train)\n",
        "XTT_test = transformer_skb.transform(XT_test)"
      ],
      "execution_count": 289,
      "outputs": [
        {
          "output_type": "stream",
          "text": [
            "/usr/local/lib/python3.6/dist-packages/category_encoders/utils.py:21: FutureWarning: is_categorical is deprecated and will be removed in a future version.  Use is_categorical_dtype instead\n",
            "  elif pd.api.types.is_categorical(cols):\n",
            "/usr/local/lib/python3.6/dist-packages/sklearn/feature_selection/_univariate_selection.py:114: UserWarning: Features [ 4 11 27 28 36 47] are constant.\n",
            "  UserWarning)\n",
            "/usr/local/lib/python3.6/dist-packages/sklearn/feature_selection/_univariate_selection.py:115: RuntimeWarning: divide by zero encountered in true_divide\n",
            "  f = msb / msw\n",
            "/usr/local/lib/python3.6/dist-packages/sklearn/feature_selection/_univariate_selection.py:115: RuntimeWarning: invalid value encountered in true_divide\n",
            "  f = msb / msw\n"
          ],
          "name": "stderr"
        }
      ]
    },
    {
      "cell_type": "code",
      "metadata": {
        "colab": {
          "base_uri": "https://localhost:8080/"
        },
        "id": "om5nK-u6XGn3",
        "outputId": "a319efca-f196-43d1-a7e0-d11b00ed3f96"
      },
      "source": [
        "#Linear Regression of Model\n",
        "model_lr = LinearRegression()\n",
        "model_lr.fit(XTT_train, y_train)"
      ],
      "execution_count": 290,
      "outputs": [
        {
          "output_type": "execute_result",
          "data": {
            "text/plain": [
              "LinearRegression(copy_X=True, fit_intercept=True, n_jobs=None, normalize=False)"
            ]
          },
          "metadata": {
            "tags": []
          },
          "execution_count": 290
        }
      ]
    },
    {
      "cell_type": "code",
      "metadata": {
        "colab": {
          "base_uri": "https://localhost:8080/"
        },
        "id": "1opx52f6o_1d",
        "outputId": "d24de5e1-7165-475f-9bbc-868c09e9cc02"
      },
      "source": [
        "print(model_lr.coef_)\n",
        "print(model_lr.intercept_)"
      ],
      "execution_count": 286,
      "outputs": [
        {
          "output_type": "stream",
          "text": [
            "[ 2.03119208e+14  2.03119208e+14  2.03119207e+14  2.03119207e+14\n",
            "  2.03119207e+14 -8.40987055e+04  3.21540537e+04 -4.19981741e+05\n",
            "  2.78280272e+05  1.42634538e+05  5.10150781e+04 -8.90270323e+04\n",
            "  8.90269188e+04 -2.57696063e+01 -3.60238075e+01  5.09883299e+03\n",
            " -2.48053191e+04  3.73121171e+04 -1.38177112e+05  5.36188667e+04\n",
            " -1.50404371e+04  8.90272684e+04  1.73937370e+05  5.00353465e+05\n",
            " -1.13763617e+02 -8.90270549e+04  2.09697834e+05  1.20670757e+05\n",
            "  3.39665435e+01  1.63436183e+02  1.36147256e+03  5.09878316e+03\n",
            " -5.56128364e+03  2.21721918e+04  3.73121264e+04 -1.38177069e+05\n",
            "  5.36187861e+04 -1.50403969e+04  8.90275103e+04  1.73937381e+05]\n",
            "-203119208232448.97\n"
          ],
          "name": "stdout"
        }
      ]
    },
    {
      "cell_type": "markdown",
      "metadata": {
        "id": "rOStSFf60pE8"
      },
      "source": [
        "Regularizing Data"
      ]
    },
    {
      "cell_type": "code",
      "metadata": {
        "colab": {
          "base_uri": "https://localhost:8080/"
        },
        "id": "lvhj_VyS0onp",
        "outputId": "455268ed-41ff-4c97-df74-5e9011624651"
      },
      "source": [
        "#Instructions said to normalize but that made my model worse so I vetoed that\n",
        "\n",
        "model_r=Ridge(alpha=1.0)\n",
        "model_r.fit(XT_train, y_train)"
      ],
      "execution_count": 300,
      "outputs": [
        {
          "output_type": "execute_result",
          "data": {
            "text/plain": [
              "Ridge(alpha=1.0, copy_X=True, fit_intercept=True, max_iter=None,\n",
              "      normalize=False, random_state=None, solver='auto', tol=0.001)"
            ]
          },
          "metadata": {
            "tags": []
          },
          "execution_count": 300
        }
      ]
    },
    {
      "cell_type": "markdown",
      "metadata": {
        "id": "xfAqLcQopYIA"
      },
      "source": [
        "#V. Checking Metrics"
      ]
    },
    {
      "cell_type": "markdown",
      "metadata": {
        "id": "iyJEke3709pX"
      },
      "source": [
        "Linear Regression"
      ]
    },
    {
      "cell_type": "code",
      "metadata": {
        "colab": {
          "base_uri": "https://localhost:8080/"
        },
        "id": "d0kjEaq1pbLb",
        "outputId": "c2a221f9-7c5e-42a2-ac75-57b66afe1fa1"
      },
      "source": [
        "training_MAE = mean_absolute_error(y_train, model_lr.predict(XTT_train))\n",
        "testing_MAE = mean_absolute_error(y_test, model_lr.predict(XTT_test))\n",
        "print(training_MAE)\n",
        "print(testing_MAE)"
      ],
      "execution_count": 291,
      "outputs": [
        {
          "output_type": "stream",
          "text": [
            "150261.4478958915\n",
            "155721.0221273292\n"
          ],
          "name": "stdout"
        }
      ]
    },
    {
      "cell_type": "code",
      "metadata": {
        "colab": {
          "base_uri": "https://localhost:8080/"
        },
        "id": "FMzw4L2wsH2z",
        "outputId": "44eb0e39-22df-4b0d-b1b0-b827b97a34af"
      },
      "source": [
        "#R^2 Score\n",
        "from sklearn.metrics import r2_score\n",
        "\n",
        "train_R_SQ = r2_score(y_train, model_lr.predict(XTT_train))\n",
        "test_R_SQ = r2_score(y_test, model_lr.predict(XTT_test))\n",
        "\n",
        "print('Training R^2:', train_R_SQ)\n",
        "print('Test R^2:', test_R_SQ)"
      ],
      "execution_count": 292,
      "outputs": [
        {
          "output_type": "stream",
          "text": [
            "Training R^2: 0.46651038011800483\n",
            "Test R^2: 0.42474671136302367\n"
          ],
          "name": "stdout"
        }
      ]
    },
    {
      "cell_type": "markdown",
      "metadata": {
        "id": "LeUHiVBF1BBJ"
      },
      "source": [
        "Ridge Regression"
      ]
    },
    {
      "cell_type": "code",
      "metadata": {
        "colab": {
          "base_uri": "https://localhost:8080/"
        },
        "id": "dw2fpp1n1B7c",
        "outputId": "f450fd4e-c0d8-45d8-c921-ceb8447a0b8e"
      },
      "source": [
        "r_training_MAE = mean_absolute_error(y_train, model_r.predict(XT_train))\n",
        "r_testing_MAE = mean_absolute_error(y_test, model_r.predict(XT_test))\n",
        "print(r_training_MAE)\n",
        "print(r_testing_MAE)"
      ],
      "execution_count": 301,
      "outputs": [
        {
          "output_type": "stream",
          "text": [
            "150597.36263153714\n",
            "155590.70384044052\n"
          ],
          "name": "stdout"
        }
      ]
    },
    {
      "cell_type": "code",
      "metadata": {
        "colab": {
          "base_uri": "https://localhost:8080/"
        },
        "id": "aIl9YW_o1YhV",
        "outputId": "860f10e6-2ab1-495e-e354-c30b56419312"
      },
      "source": [
        "r_train_R_SQ = r2_score(y_train, model_r.predict(XT_train))\n",
        "r_test_R_SQ = r2_score(y_test, model_r.predict(XT_test))\n",
        "\n",
        "print('Training R^2:', r_train_R_SQ)\n",
        "print('Test R^2:', r_test_R_SQ)"
      ],
      "execution_count": 302,
      "outputs": [
        {
          "output_type": "stream",
          "text": [
            "Training R^2: 0.4667765442134705\n",
            "Test R^2: 0.4252141410064396\n"
          ],
          "name": "stdout"
        }
      ]
    }
  ]
}